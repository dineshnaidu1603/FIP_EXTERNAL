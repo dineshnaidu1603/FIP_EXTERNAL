{
 "cells": [
  {
   "cell_type": "code",
   "execution_count": 1,
   "metadata": {},
   "outputs": [],
   "source": [
    "import cv2\n",
    "import numpy as np\n",
    "\n",
    "# Load the image\n",
    "image = cv2.imread('download.jpg', 0)  # Replace 'image.jpg' with the path to your image\n",
    "\n",
    "# Define the kernel for erosion\n",
    "kernel = np.ones((5, 5), np.uint8)  # Adjust the kernel size as per your requirement\n",
    "\n",
    "# Apply erosion on the image\n",
    "eroded_image = cv2.erode(image, kernel, iterations=1)\n",
    "\n",
    "# Display the original and eroded images\n",
    "cv2.imshow('Original Image', image)\n",
    "cv2.imshow('Eroded Image', eroded_image)\n",
    "cv2.waitKey(0)\n",
    "cv2.destroyAllWindows()"
   ]
  },
  {
   "cell_type": "code",
   "execution_count": 2,
   "metadata": {},
   "outputs": [],
   "source": [
    "import cv2\n",
    "import numpy as np\n",
    "\n",
    "# Load the image\n",
    "image = cv2.imread('download.jpg', 0)  # Replace 'image.jpg' with the path to your image\n",
    "\n",
    "# Define the kernel for dilation\n",
    "kernel = np.ones((5, 5), np.uint8)  # Adjust the kernel size as per your requirement\n",
    "\n",
    "# Apply dilation on the image\n",
    "dilated_image = cv2.dilate(image, kernel, iterations=1)\n",
    "\n",
    "# Display the original and dilated images\n",
    "cv2.imshow('Original Image', image)\n",
    "cv2.imshow('Dilated Image', dilated_image)\n",
    "cv2.waitKey(0)\n",
    "cv2.destroyAllWindows()"
   ]
  },
  {
   "cell_type": "code",
   "execution_count": 3,
   "metadata": {},
   "outputs": [],
   "source": [
    "import cv2\n",
    "import numpy as np\n",
    "\n",
    "# Load the image\n",
    "image = cv2.imread('download.jpg', 0)  # Replace 'image.jpg' with the path to your image\n",
    "\n",
    "# Define the kernel for morphological operations\n",
    "kernel = np.ones((5, 5), np.uint8)  # Adjust the kernel size as per your requirement\n",
    "\n",
    "# Apply opening operation on the image\n",
    "opened_image = cv2.morphologyEx(image, cv2.MORPH_OPEN, kernel)\n",
    "\n",
    "# Apply closing operation on the image\n",
    "closed_image = cv2.morphologyEx(image, cv2.MORPH_CLOSE, kernel)\n",
    "\n",
    "# Display the original, opened, and closed images\n",
    "cv2.imshow('Original Image', image)\n",
    "cv2.imshow('Opened Image', opened_image)\n",
    "cv2.imshow('Closed Image', closed_image)\n",
    "cv2.waitKey(0)\n",
    "cv2.destroyAllWindows()"
   ]
  },
  {
   "cell_type": "code",
   "execution_count": 4,
   "metadata": {},
   "outputs": [],
   "source": [
    "import cv2\n",
    "import numpy as np\n",
    "\n",
    "# Load the image\n",
    "image = cv2.imread('download.jpg', 0)  # Replace 'image.jpg' with the path to your image\n",
    "\n",
    "# Define the structuring elements for hit and miss operation\n",
    "kernel_hit = np.array([[0, 0, 0],\n",
    "                       [1, 1, 0],\n",
    "                       [0, 1, 0]], dtype=np.uint8)\n",
    "\n",
    "kernel_miss = np.array([[0, 1, 1],\n",
    "                        [0, 0, 1],\n",
    "                        [0, 0, 0]], dtype=np.uint8)\n",
    "\n",
    "# Apply hit and miss operation on the image\n",
    "result = cv2.morphologyEx(image, cv2.MORPH_HITMISS, kernel_hit, iterations=1)\n",
    "result = cv2.morphologyEx(result, cv2.MORPH_HITMISS, kernel_miss, iterations=1)\n",
    "\n",
    "# Display the result\n",
    "cv2.imshow('Result', result)\n",
    "cv2.waitKey(0)\n",
    "cv2.destroyAllWindows()"
   ]
  },
  {
   "cell_type": "code",
   "execution_count": 5,
   "metadata": {},
   "outputs": [],
   "source": [
    "import cv2\n",
    "import numpy as np\n",
    "\n",
    "# Load the image\n",
    "image = cv2.imread('download.jpg', 0)  # Replace 'image.jpg' with the path to your image\n",
    "\n",
    "# Define the kernel for thickening\n",
    "kernel_thickening = np.ones((3, 3), np.uint8)  # Adjust the kernel size as per your requirement\n",
    "\n",
    "# Apply thickening on the image\n",
    "thickened_image = cv2.morphologyEx(image, cv2.MORPH_DILATE, kernel_thickening)\n",
    "\n",
    "# Define the kernel for thinning\n",
    "kernel_thinning = np.ones((3, 3), np.uint8)  # Adjust the kernel size as per your requirement\n",
    "\n",
    "# Apply thinning on the image\n",
    "thinned_image = cv2.morphologyEx(image, cv2.MORPH_ERODE, kernel_thinning)\n",
    "\n",
    "# Display the original, thickened, and thinned images\n",
    "cv2.imshow('Original Image', image)\n",
    "cv2.imshow('Thickened Image', thickened_image)\n",
    "cv2.imshow('Thinned Image', thinned_image)\n",
    "cv2.waitKey(0)\n",
    "cv2.destroyAllWindows()"
   ]
  }
 ],
 "metadata": {
  "kernelspec": {
   "display_name": "Python 3",
   "language": "python",
   "name": "python3"
  },
  "language_info": {
   "codemirror_mode": {
    "name": "ipython",
    "version": 3
   },
   "file_extension": ".py",
   "mimetype": "text/x-python",
   "name": "python",
   "nbconvert_exporter": "python",
   "pygments_lexer": "ipython3",
   "version": "3.11.2"
  }
 },
 "nbformat": 4,
 "nbformat_minor": 2
}
